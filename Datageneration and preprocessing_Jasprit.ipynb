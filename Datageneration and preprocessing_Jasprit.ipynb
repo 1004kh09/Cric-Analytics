{
 "cells": [
  {
   "cell_type": "code",
   "execution_count": 13,
   "id": "add46c00-e7fd-4809-9c70-ffbece383bf4",
   "metadata": {},
   "outputs": [
    {
     "name": "stdout",
     "output_type": "stream",
     "text": [
      "Preprocessed dataset saved successfully at: C:/Users/91877/Desktop/Preprocessed_Jasprit_Bumrah_Data.xlsx\n"
     ]
    },
    {
     "name": "stderr",
     "output_type": "stream",
     "text": [
      "C:\\Users\\91877\\AppData\\Local\\Temp\\ipykernel_40104\\3893233547.py:19: UserWarning: Could not infer format, so each element will be parsed individually, falling back to `dateutil`. To ensure parsing is consistent and as-expected, please specify a format.\n",
      "  \"Start Date\": pd.to_datetime([\"23-Jan-16\", \"27-Nov-20\", \"29-Nov-20\", \"02-Dec-20\", \"26-Jan-16\", \"29-Jan-16\", \"31-Jan-16\", \"21-Nov-18\", \"23-Nov-18\", \"25-Nov-18\"]),\n"
     ]
    }
   ],
   "source": [
    "# Define the structured column names based on Mohammed Shami's dataset\n",
    "column_names = [\n",
    "    \"Player_name\", \"Overs\", \"Maidens\", \"Runs\", \"Wickets\", \"Economy\",\n",
    "    \"Position\", \"Innings\", \"Opposition\", \"Ground\", \"Start Date\", \"Format\"\n",
    "]\n",
    "\n",
    "# Manually structuring the dataset for Jasprit Bumrah based on the shared data\n",
    "bumrah_data_dict = {\n",
    "    \"Player_name\": [\"Jasprit Bumrah\"] * 10,\n",
    "    \"Overs\": [10, 10, 10, 9.3, 3.3, 4, 4, 3, 4, 4],\n",
    "    \"Maidens\": [0, 0, 1, 0, 0, 0, 0, 0, 0, 0],\n",
    "    \"Runs\": [40, 73, 79, 43, 23, 37, 43, 21, 20, 38],\n",
    "    \"Wickets\": [2, 1, 1, 2, 3, 2, 1, 1, 1, 0],\n",
    "    \"Economy\": [4.0, 7.3, 7.9, 4.52, 6.57, 9.25, 10.75, 7.0, 5.0, 9.5],\n",
    "    \"Position\": [3, 2, 2, 1, 3, 2, 2, 2, 3, 3],\n",
    "    \"Innings\": [1, 1, 1, 2, 2, 2, 1, 1, 1, 1],\n",
    "    \"Opposition\": [\"v Australia\"] * 10,\n",
    "    \"Ground\": [\"Sydney\", \"Sydney\", \"Sydney\", \"Canberra\", \"Adelaide\", \"Melbourne\", \"Sydney\", \"Brisbane\", \"Melbourne\", \"Sydney\"],\n",
    "    \"Start Date\": pd.to_datetime([\"23-Jan-16\", \"27-Nov-20\", \"29-Nov-20\", \"02-Dec-20\", \"26-Jan-16\", \"29-Jan-16\", \"31-Jan-16\", \"21-Nov-18\", \"23-Nov-18\", \"25-Nov-18\"]),\n",
    "    \"Format\": [\"ODI # 3727\", \"ODI # 4265\", \"ODI # 4266\", \"ODI # 4267\", \"T20I # 485\", \"T20I # 486\", \"T20I # 489\", \"T20I # 712\", \"T20I # 713\", \"T20I # 714\"]\n",
    "}\n",
    "\n",
    "# Create DataFrame\n",
    "bumrah_data_df = pd.DataFrame(bumrah_data_dict)\n",
    "\n",
    "# Save the structured dataset as an Excel file\n",
    "# Update file path to a valid location\n",
    "bumrah_file_path = \"C:/Users/91877/Desktop/Preprocessed_Jasprit_Bumrah_Data.xlsx\"\n",
    "\n",
    "# Save the structured dataset\n",
    "bumrah_data_df.to_excel(bumrah_file_path, index=False)\n",
    "\n",
    "print(f\"Preprocessed dataset saved successfully at: {bumrah_file_path}\")\n"
   ]
  },
  {
   "cell_type": "code",
   "execution_count": 14,
   "id": "00d62173-e576-493b-ae70-c0fd3644aa7c",
   "metadata": {},
   "outputs": [
    {
     "name": "stdout",
     "output_type": "stream",
     "text": [
      "Expanded dataset with synthetic data saved successfully at: C:/Users/91877/Desktop/Expanded_Jasprit_Bumrah_Data.xlsx\n"
     ]
    }
   ],
   "source": [
    "import numpy as np\n",
    "\n",
    "# Function to generate synthetic data based on statistical patterns from the dataset\n",
    "def generate_synthetic_data(original_data, num_samples=50):\n",
    "    synthetic_data = []\n",
    "\n",
    "    for _ in range(num_samples):\n",
    "        overs = np.random.uniform(2, 10)  # Overs typically range from 2 to 10\n",
    "        maidens = np.random.randint(0, 2) if overs > 5 else 0  # Maiden overs are rare\n",
    "        runs = np.random.uniform(overs * 4, overs * 12)  # Runs depend on overs\n",
    "        wickets = np.random.choice([0, 1, 2, 3, 4, 5])  # Wickets distribution\n",
    "        economy = runs / overs  # Calculate economy rate\n",
    "        position = np.random.randint(1, 5)  # Position in the bowling order\n",
    "        innings = np.random.choice([1, 2])  # First or second innings\n",
    "        opposition = np.random.choice(original_data[\"Opposition\"].unique())  # Random opponent\n",
    "        ground = np.random.choice(original_data[\"Ground\"].unique())  # Random ground\n",
    "        start_date = pd.Timestamp(np.random.choice(pd.date_range(\"2015-01-01\", \"2023-01-01\")))  # Random date\n",
    "        format_type = np.random.choice(original_data[\"Format\"].unique())  # ODI or T20I\n",
    "\n",
    "        synthetic_data.append([\n",
    "            \"Jasprit Bumrah\", overs, maidens, round(runs), wickets, round(economy, 2),\n",
    "            position, innings, opposition, ground, start_date.date(), format_type\n",
    "        ])\n",
    "\n",
    "    return pd.DataFrame(synthetic_data, columns=original_data.columns)\n",
    "\n",
    "# Generate synthetic data based on the original dataset\n",
    "num_synthetic_samples = len(bumrah_data_df)  # Matching synthetic data count with real data count\n",
    "synthetic_bumrah_data = generate_synthetic_data(bumrah_data_df, num_samples=num_synthetic_samples)\n",
    "\n",
    "# Combine original and synthetic data\n",
    "expanded_bumrah_data = pd.concat([bumrah_data_df, synthetic_bumrah_data], ignore_index=True)\n",
    "\n",
    "# Save the expanded dataset to a file\n",
    "expanded_bumrah_file_path = \"C:/Users/91877/Desktop/Expanded_Jasprit_Bumrah_Data.xlsx\"\n",
    "expanded_bumrah_data.to_excel(expanded_bumrah_file_path, index=False)\n",
    "\n",
    "print(f\"Expanded dataset with synthetic data saved successfully at: {expanded_bumrah_file_path}\")\n"
   ]
  },
  {
   "cell_type": "code",
   "execution_count": 15,
   "id": "beddc4e1-929f-4be8-8984-f2fc98c9558d",
   "metadata": {},
   "outputs": [
    {
     "name": "stdout",
     "output_type": "stream",
     "text": [
      "Expanded dataset with additional synthetic data saved at: C:/Users/91877/Desktop/Expanded_Jasprit_Bumrah_Data_v2.xlsx\n"
     ]
    }
   ],
   "source": [
    "# Generate additional 50 synthetic data points for Jasprit Bumrah\n",
    "num_additional_samples = 50  # Generating 50 more points\n",
    "additional_synthetic_bumrah_data = generate_synthetic_data(bumrah_data_df, num_samples=num_additional_samples)\n",
    "\n",
    "# Append the additional synthetic data to the existing dataset\n",
    "expanded_bumrah_data = pd.concat([expanded_bumrah_data, additional_synthetic_bumrah_data], ignore_index=True)\n",
    "\n",
    "# Save the updated expanded dataset\n",
    "expanded_bumrah_file_path = \"C:/Users/91877/Desktop/Expanded_Jasprit_Bumrah_Data_v2.xlsx\"\n",
    "expanded_bumrah_data.to_excel(expanded_bumrah_file_path, index=False)\n",
    "\n",
    "print(f\"Expanded dataset with additional synthetic data saved at: {expanded_bumrah_file_path}\")\n"
   ]
  },
  {
   "cell_type": "code",
   "execution_count": 19,
   "id": "5fb860e7-5305-49a4-895f-407bca321635",
   "metadata": {},
   "outputs": [
    {
     "name": "stdout",
     "output_type": "stream",
     "text": [
      "Dataset Preview:\n",
      "      Player_name  Overs  Maidens  Runs  Wickets  Economy  Position  Innings  \\\n",
      "0  Jasprit Bumrah   10.0        0    40        2     4.00         3        1   \n",
      "1  Jasprit Bumrah   10.0        0    73        1     7.30         2        1   \n",
      "2  Jasprit Bumrah   10.0        1    79        1     7.90         2        1   \n",
      "3  Jasprit Bumrah    9.3        0    43        2     4.52         1        2   \n",
      "4  Jasprit Bumrah    3.3        0    23        3     6.57         3        2   \n",
      "\n",
      "    Opposition    Ground Start Date      Format  \n",
      "0  v Australia    Sydney 2016-01-23  ODI # 3727  \n",
      "1  v Australia    Sydney 2020-11-27  ODI # 4265  \n",
      "2  v Australia    Sydney 2020-11-29  ODI # 4266  \n",
      "3  v Australia  Canberra 2020-12-02  ODI # 4267  \n",
      "4  v Australia  Adelaide 2016-01-26  T20I # 485  \n"
     ]
    }
   ],
   "source": [
    "import pandas as pd\n",
    "\n",
    "# Load the dataset (Use double backslashes or raw string format)\n",
    "file_path = r\"C:\\Users\\91877\\Desktop\\cricket_ML\\Expanded_Jasprit_Bumrah_Data_v2.xlsx\"\n",
    "data = pd.read_excel(file_path)\n",
    "\n",
    "# Display the first few rows\n",
    "print(\"Dataset Preview:\")\n",
    "print(data.head())\n"
   ]
  },
  {
   "cell_type": "code",
   "execution_count": 20,
   "id": "63c22f85-41a6-4d55-b01f-38151f4287f6",
   "metadata": {},
   "outputs": [
    {
     "name": "stdout",
     "output_type": "stream",
     "text": [
      "Updated Format Column Values:\n",
      "Format\n",
      "T20I    42\n",
      "ODI     28\n",
      "Name: count, dtype: int64\n",
      "Updated dataset saved successfully at: C:\\Users\\91877\\Desktop\\cricket_ML\\Updated_Jasprit_Bumrah_Data.xlsx\n"
     ]
    }
   ],
   "source": [
    "# Ensure \"Format\" column exists before applying replacement\n",
    "if \"Format\" in data.columns:\n",
    "    # Replace format based on first letter (O -> ODI, T -> T20I)\n",
    "    data[\"Format\"] = data[\"Format\"].apply(lambda x: \"ODI\" if str(x).startswith(\"O\") else \"T20I\")\n",
    "\n",
    "    # Verify changes\n",
    "    print(\"Updated Format Column Values:\")\n",
    "    print(data[\"Format\"].value_counts())\n",
    "\n",
    "    # Save the updated dataset\n",
    "    updated_file_path = r\"C:\\Users\\91877\\Desktop\\cricket_ML\\Updated_Jasprit_Bumrah_Data.xlsx\"\n",
    "    data.to_excel(updated_file_path, index=False)\n",
    "\n",
    "    print(f\"Updated dataset saved successfully at: {updated_file_path}\")\n",
    "else:\n",
    "    print(\"Error: 'Format' column not found in the dataset.\")\n"
   ]
  },
  {
   "cell_type": "code",
   "execution_count": 21,
   "id": "2ea36a47-274f-4fa4-ad79-63e4d1dcf8e7",
   "metadata": {},
   "outputs": [
    {
     "name": "stdout",
     "output_type": "stream",
     "text": [
      "Missing Values per Column:\n",
      "Player_name    0\n",
      "Overs          0\n",
      "Maidens        0\n",
      "Runs           0\n",
      "Wickets        0\n",
      "Economy        0\n",
      "Position       0\n",
      "Innings        0\n",
      "Opposition     0\n",
      "Ground         0\n",
      "Start Date     0\n",
      "Format         0\n",
      "dtype: int64\n",
      "\n",
      "Total Missing Values in Dataset: 0\n"
     ]
    }
   ],
   "source": [
    "# Check for missing values\n",
    "missing_values = data.isnull().sum()\n",
    "\n",
    "# Display missing values per column\n",
    "print(\"Missing Values per Column:\")\n",
    "print(missing_values)\n",
    "\n",
    "# Display total missing values\n",
    "total_missing = missing_values.sum()\n",
    "print(f\"\\nTotal Missing Values in Dataset: {total_missing}\")\n"
   ]
  },
  {
   "cell_type": "code",
   "execution_count": 22,
   "id": "a6a258ae-ca42-423a-823e-23ded4766b12",
   "metadata": {},
   "outputs": [
    {
     "name": "stdout",
     "output_type": "stream",
     "text": [
      "\n",
      "Match Distribution by Opposition:\n",
      "Opposition\n",
      "v Australia    70\n",
      "Name: count, dtype: int64\n",
      "\n",
      "Match Distribution by Ground:\n",
      "Ground\n",
      "Sydney       17\n",
      "Adelaide     17\n",
      "Melbourne    13\n",
      "Canberra     12\n",
      "Brisbane     11\n",
      "Name: count, dtype: int64\n",
      "\n",
      "Match Format Distribution:\n",
      "Format\n",
      "T20I    42\n",
      "ODI     28\n",
      "Name: count, dtype: int64\n"
     ]
    }
   ],
   "source": [
    "# Check balance of records per opposition\n",
    "print(\"\\nMatch Distribution by Opposition:\")\n",
    "print(data[\"Opposition\"].value_counts())\n",
    "\n",
    "# Check balance of records per ground\n",
    "print(\"\\nMatch Distribution by Ground:\")\n",
    "print(data[\"Ground\"].value_counts())\n",
    "\n",
    "# Check balance of match formats (ODI vs T20I)\n",
    "print(\"\\nMatch Format Distribution:\")\n",
    "print(data[\"Format\"].value_counts())\n"
   ]
  },
  {
   "cell_type": "markdown",
   "id": "2280a633-7abe-479f-a3c8-70cb063674a2",
   "metadata": {},
   "source": [
    " Observations & Issues\n",
    "\n",
    "2 Ground Imbalance:\n",
    "\n",
    "Most matches were played in Sydney (17), Adelaide (17), and Melbourne (13).\n",
    "Fewer matches in Canberra (12) and Brisbane (11).\n",
    "This might introduce venue bias in analysis.\n",
    "3️ Format Imbalance:\n",
    "\n",
    "T20I matches (42) are higher than ODI matches (28).\n",
    "If analysis is format-specific, models may be more influenced by T20I trends.\n"
   ]
  },
  {
   "cell_type": "code",
   "execution_count": 23,
   "id": "4569ef5e-5341-429a-98f9-1e418574cf8b",
   "metadata": {},
   "outputs": [
    {
     "data": {
      "image/png": "[encoded data removed]",
      "text/plain": [
       "<Figure size 1000x500 with 1 Axes>"
      ]
     },
     "metadata": {},
     "output_type": "display_data"
    },
    {
     "data": {
      "image/png": "[encoded data removed]",
      "text/plain": [
       "<Figure size 1000x500 with 1 Axes>"
      ]
     },
     "metadata": {},
     "output_type": "display_data"
    },
    {
     "data": {
      "image/png": "[encoded data removed]",
      "text/plain": [
       "<Figure size 600x400 with 1 Axes>"
      ]
     },
     "metadata": {},
     "output_type": "display_data"
    }
   ],
   "source": [
    "import matplotlib.pyplot as plt\n",
    "\n",
    "# Plot match distribution by opposition\n",
    "plt.figure(figsize=(10,5))\n",
    "data[\"Opposition\"].value_counts().plot(kind='bar', color='skyblue')\n",
    "plt.title(\"Match Distribution by Opposition\")\n",
    "plt.xlabel(\"Opposition\")\n",
    "plt.ylabel(\"Number of Matches\")\n",
    "plt.xticks(rotation=45)\n",
    "plt.show()\n",
    "\n",
    "# Plot match distribution by ground\n",
    "plt.figure(figsize=(10,5))\n",
    "data[\"Ground\"].value_counts().plot(kind='bar', color='salmon')\n",
    "plt.title(\"Match Distribution by Ground\")\n",
    "plt.xlabel(\"Ground\")\n",
    "plt.ylabel(\"Number of Matches\")\n",
    "plt.xticks(rotation=45)\n",
    "plt.show()\n",
    "\n",
    "# Plot match format distribution (ODI vs T20I)\n",
    "plt.figure(figsize=(6,4))\n",
    "data[\"Format\"].value_counts().plot(kind='bar', color='green')\n",
    "plt.title(\"Match Format Distribution\")\n",
    "plt.xlabel(\"Format\")\n",
    "plt.ylabel(\"Number of Matches\")\n",
    "plt.show()\n"
   ]
  },
  {
   "cell_type": "code",
   "execution_count": null,
   "id": "187504ef-4570-464a-b5fd-36a0b15000c3",
   "metadata": {},
   "outputs": [],
   "source": [
    "BLANCING THE DATASET COLUMN (GROUND)"
   ]
  },
  {
   "cell_type": "code",
   "execution_count": 26,
   "id": "5492c6f8-d8f6-4033-a9c5-274c1e45f34c",
   "metadata": {},
   "outputs": [
    {
     "name": "stdout",
     "output_type": "stream",
     "text": [
      "Match Distribution by Ground Before Balancing:\n",
      " Ground\n",
      "Sydney       17\n",
      "Adelaide     17\n",
      "Melbourne    13\n",
      "Canberra     12\n",
      "Brisbane     11\n",
      "Name: count, dtype: int64\n",
      "Match Distribution by Ground After Balancing:\n",
      " Ground\n",
      "Adelaide     11\n",
      "Brisbane     11\n",
      "Canberra     11\n",
      "Melbourne    11\n",
      "Sydney       11\n",
      "Name: count, dtype: int64\n"
     ]
    }
   ],
   "source": [
    "import pandas as pd\n",
    "import numpy as np\n",
    "\n",
    "# Load the dataset\n",
    "file_path = r\"C:\\Users\\91877\\Desktop\\cricket_ML\\Jasprit bumrah dataset.xlsx\"\n",
    "data = pd.read_excel(file_path)\n",
    "\n",
    "# Identify the number of matches per ground\n",
    "ground_counts = data[\"Ground\"].value_counts()\n",
    "print(\"Match Distribution by Ground Before Balancing:\\n\", ground_counts)\n",
    "\n",
    "# Determine the minimum number of matches across all grounds\n",
    "min_matches = ground_counts.min()\n",
    "\n",
    "# Downsample venues with more matches to match the least represented ground\n",
    "balanced_grounds = data.groupby(\"Ground\").apply(lambda x: x.sample(n=min_matches, random_state=42)).reset_index(drop=True)\n",
    "\n",
    "# Check new distribution\n",
    "print(\"Match Distribution by Ground After Balancing:\\n\", balanced_grounds[\"Ground\"].value_counts())\n"
   ]
  },
  {
   "cell_type": "code",
   "execution_count": 27,
   "id": "3f9f920d-84c6-425c-a9d5-399aac455c2b",
   "metadata": {},
   "outputs": [
    {
     "name": "stdout",
     "output_type": "stream",
     "text": [
      "Match Format Distribution After Balancing:\n",
      " Format\n",
      "ODI     36\n",
      "T20I    33\n",
      "Name: count, dtype: int64\n"
     ]
    }
   ],
   "source": [
    "from random import choice\n",
    "from datetime import datetime, timedelta\n",
    "\n",
    "# Number of synthetic ODI matches needed to balance with T20I count\n",
    "num_synthetic_odi = (data[\"Format\"].value_counts()[\"T20I\"] - data[\"Format\"].value_counts()[\"ODI\"])\n",
    "\n",
    "# Create synthetic ODI matches\n",
    "synthetic_odi_data = []\n",
    "for _ in range(num_synthetic_odi):\n",
    "    row = data[data[\"Format\"] == \"ODI\"].sample(n=1).iloc[0].copy()  # Sample an existing ODI match\n",
    "    row[\"Start Date\"] = row[\"Start Date\"] + timedelta(days=np.random.randint(30, 365))  # Change match date\n",
    "    row[\"Runs\"] = np.random.randint(30, 100)  # Generate a new runs value\n",
    "    row[\"Wickets\"] = np.random.randint(1, 5)  # Generate a new wickets value\n",
    "    synthetic_odi_data.append(row)\n",
    "\n",
    "# Convert synthetic data into a DataFrame\n",
    "synthetic_odi_df = pd.DataFrame(synthetic_odi_data)\n",
    "\n",
    "# Combine synthetic data with the balanced dataset\n",
    "final_balanced_data = pd.concat([balanced_grounds, synthetic_odi_df], ignore_index=True)\n",
    "\n",
    "# Verify the new format distribution\n",
    "print(\"Match Format Distribution After Balancing:\\n\", final_balanced_data[\"Format\"].value_counts())\n"
   ]
  },
  {
   "cell_type": "code",
   "execution_count": 28,
   "id": "5de22435-07db-4234-a36a-6e9b8bde9136",
   "metadata": {},
   "outputs": [
    {
     "name": "stdout",
     "output_type": "stream",
     "text": [
      "Balanced dataset saved successfully at: C:/Users/91877/Desktop/PREPROCESSED_Jasprit_Bumrah_Data.xlsx\n"
     ]
    }
   ],
   "source": [
    "# Save the final balanced dataset\n",
    "balanced_file_path = \"C:/Users/91877/Desktop/PREPROCESSED_Jasprit_Bumrah_Data.xlsx\"\n",
    "final_balanced_data.to_excel(balanced_file_path, index=False)\n",
    "\n",
    "print(f\"Balanced dataset saved successfully at: {balanced_file_path}\")\n"
   ]
  },
  {
   "cell_type": "code",
   "execution_count": null,
   "id": "cc72022f-84a6-4f54-99d1-1bf21f869b05",
   "metadata": {},
   "outputs": [],
   "source": []
  }
 ],
 "metadata": {
  "kernelspec": {
   "display_name": "Python 3 (ipykernel)",
   "language": "python",
   "name": "python3"
  },
  "language_info": {
   "codemirror_mode": {
    "name": "ipython",
    "version": 3
   },
   "file_extension": ".py",
   "mimetype": "text/x-python",
   "name": "python",
   "nbconvert_exporter": "python",
   "pygments_lexer": "ipython3",
   "version": "3.11.7"
  }
 },
 "nbformat": 4,
 "nbformat_minor": 5
}
