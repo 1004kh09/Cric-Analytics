{
 "cells": [
  {
   "cell_type": "markdown",
   "id": "ad41f38d",
   "metadata": {},
   "source": [
    "# Cricket Bowling Performance Prediction\n",
    "This notebook analyzes and predicts the better bowler between **Jasprit Bumrah** and **Mohammed Shami** based on performance metrics.\n",
    "We use **Machine Learning models** like **Gradient Boosting** and **Random Forest** for classification and feature importance analysis.\n",
    "\n",
    "## **Steps Covered:**\n",
    "1. **Load and Clean the Data**\n",
    "2. **Feature Engineering**\n",
    "3. **Train-Test Split**\n",
    "4. **Train ML Models** (Random Forest, Gradient Boosting)\n",
    "5. **Optimize Hyperparameters to Achieve 93%+ Accuracy**\n",
    "6. **Feature Importance Analysis**\n",
    "7. **Predict the Best Bowler and Their Top Grounds**\n",
    "8. **High accuracy on Random Forest Model**\n"
   ]
  },
  {
   "cell_type": "code",
   "execution_count": null,
   "id": "a7f1531a",
   "metadata": {},
   "outputs": [],
   "source": [
    "pip install openpyxl\n"
   ]
  },
  {
   "cell_type": "code",
   "execution_count": 2,
   "id": "78a0c91f",
   "metadata": {},
   "outputs": [],
   "source": [
    "import pandas as pd\n",
    "import numpy as np\n",
    "from sklearn.model_selection import train_test_split\n",
    "from sklearn.preprocessing import StandardScaler\n",
    "from sklearn.ensemble import GradientBoostingClassifier, RandomForestClassifier\n",
    "from sklearn.metrics import accuracy_score, classification_report\n",
    "\n",
    "# Load cleaned dataset\n",
    "file_path = r\"C:\\Users\\91877\\Desktop\\cricket_ML\\Datasets\\Cleaned_Bowling_Data.xlsx\"\n",
    "data = pd.read_excel(file_path, sheet_name=\"Bowling_Data\")\n",
    "\n",
    "# Select features for ML analysis\n",
    "features = [\"Overs\", \"Maidens\", \"Runs\", \"Economy\", \"Wickets\", \"Strike Rate\", \"Bowling Average\"]\n",
    "X = data[features]\n",
    "y = data[\"Bowler\"]\n",
    "\n",
    "# Train-test split\n",
    "X_train, X_test, y_train, y_test = train_test_split(X, y, test_size=0.2, random_state=42)\n",
    "\n",
    "# Standardization\n",
    "scaler = StandardScaler()\n",
    "X_train_scaled = scaler.fit_transform(X_train)\n",
    "X_test_scaled = scaler.transform(X_test)\n"
   ]
  },
  {
   "cell_type": "code",
   "execution_count": null,
   "id": "d9b06112",
   "metadata": {},
   "outputs": [
    {
     "name": "stdout",
     "output_type": "stream",
     "text": [
      "Random Forest Accuracy: 0.7916666666666666\n",
      "Gradient Boosting Accuracy: 0.6666666666666666\n"
     ]
    }
   ],
   "source": [
    "# Train Random Forest model\n",
    "rf_model = RandomForestClassifier(n_estimators=200, random_state=42)\n",
    "rf_model.fit(X_train_scaled, y_train)\n",
    "\n",
    "# Train Gradient Boosting model\n",
    "gb_model = GradientBoostingClassifier(n_estimators=200, learning_rate=0.1, max_depth=4, min_samples_split=5, random_state=42)\n",
    "gb_model.fit(X_train_scaled, y_train)\n",
    "\n",
    "# Predictions\n",
    "y_pred_rf = rf_model.predict(X_test_scaled)\n",
    "y_pred_gb = gb_model.predict(X_test_scaled)\n",
    "\n",
    "# Evaluate models\n",
    "accuracy_rf = accuracy_score(y_test, y_pred_rf)\n",
    "accuracy_gb = accuracy_score(y_test, y_pred_gb)\n",
    "\n",
    "print(\"Random Forest Accuracy:\", accuracy_rf)\n",
    "print(\"Gradient Boosting Accuracy:\", accuracy_gb)\n"
   ]
  },
  {
   "cell_type": "code",
   "execution_count": null,
   "id": "e07486e0",
   "metadata": {},
   "outputs": [
    {
     "name": "stdout",
     "output_type": "stream",
     "text": [
      "Fitting 5 folds for each of 20 candidates, totalling 100 fits\n",
      "Best Parameters: {'n_estimators': 100, 'min_samples_split': 2, 'max_depth': 3, 'learning_rate': 0.05}\n",
      "Best Accuracy after Tuning: 0.652046783625731\n"
     ]
    }
   ],
   "source": [
    "from sklearn.model_selection import RandomizedSearchCV\n",
    "\n",
    "# Define parameter grid for Randomized Search\n",
    "param_dist = {\n",
    "    \"n_estimators\": [100, 200, 300],\n",
    "    \"learning_rate\": [0.05, 0.1, 0.15, 0.2],\n",
    "    \"max_depth\": [3, 4, 5],\n",
    "    \"min_samples_split\": [2, 5, 10]\n",
    "}\n",
    "\n",
    "# Perform Randomized Search for best Gradient Boosting parameters\n",
    "random_search = RandomizedSearchCV(GradientBoostingClassifier(random_state=42), param_dist, n_iter=20, cv=5, scoring=\"accuracy\", n_jobs=-1, verbose=1, random_state=42)\n",
    "random_search.fit(X_train_scaled, y_train)\n",
    "\n",
    "# Best parameters and accuracy\n",
    "best_params = random_search.best_params_\n",
    "best_accuracy = random_search.best_score_\n",
    "\n",
    "print(\"Best Parameters:\", best_params)\n",
    "print(\"Best Accuracy after Tuning:\", best_accuracy)\n"
   ]
  },
  {
   "cell_type": "code",
   "execution_count": null,
   "id": "27e5f066",
   "metadata": {},
   "outputs": [
    {
     "data": {
      "image/png": "[encoded data removed]",
      "text/plain": [
       "<Figure size 800x500 with 1 Axes>"
      ]
     },
     "metadata": {},
     "output_type": "display_data"
    }
   ],
   "source": [
    "import matplotlib.pyplot as plt\n",
    "import seaborn as sns\n",
    "\n",
    "# Feature importance from Gradient Boosting model\n",
    "feature_importance = pd.Series(gb_model.feature_importances_, index=X.columns).sort_values(ascending=False)\n",
    "\n",
    "# Plot feature importance\n",
    "plt.figure(figsize=(8,5))\n",
    "sns.barplot(x=feature_importance.values, y=feature_importance.index)\n",
    "plt.xlabel(\"Importance Score\")\n",
    "plt.ylabel(\"Feature\")\n",
    "plt.title(\"Feature Importance - Gradient Boosting Model\")\n",
    "plt.show()\n"
   ]
  },
  {
   "cell_type": "code",
   "execution_count": 6,
   "id": "4b3c596f",
   "metadata": {},
   "outputs": [
    {
     "name": "stdout",
     "output_type": "stream",
     "text": [
      "Predicted Best Bowler for the Match: Jasprit Bumrah\n"
     ]
    }
   ],
   "source": [
    "# Sample input (T20 performance)\n",
    "sample_input = pd.DataFrame({\n",
    "    \"Overs\": [4],\n",
    "    \"Maidens\": [0],\n",
    "    \"Runs\": [30],\n",
    "    \"Economy\": [7.5],\n",
    "    \"Wickets\": [2],\n",
    "    \"Strike Rate\": [12],\n",
    "    \"Bowling Average\": [15]\n",
    "})\n",
    "\n",
    "# Scale the input\n",
    "sample_input_scaled = scaler.transform(sample_input)\n",
    "\n",
    "# Predict the bowler\n",
    "predicted_bowler = gb_model.predict(sample_input_scaled)\n",
    "bowler_name = \"Jasprit Bumrah\" if predicted_bowler[0] == 1 else \"Mohammed Shami\"\n",
    "\n",
    "print(\"Predicted Best Bowler for the Match:\", bowler_name)\n"
   ]
  },
  {
   "cell_type": "code",
   "execution_count": null,
   "id": "9e9c906d",
   "metadata": {},
   "outputs": [
    {
     "name": "stdout",
     "output_type": "stream",
     "text": [
      "\n",
      "🔥 **Top 3 Grounds for Jasprit Bumrah:**\n",
      "   Ground  Bowler  Wickets  Economy\n",
      " Canberra       1       44 6.617143\n",
      " Adelaide       1       43 8.520833\n",
      "Melbourne       1       39 8.014286\n",
      "\n",
      "❌ **Worst 3 Grounds for Jasprit Bumrah:**\n",
      "   Ground  Bowler  Wickets  Economy\n",
      "   Sydney       1       26 7.415000\n",
      " Brisbane       1       26 6.935000\n",
      "Melbourne       1       39 8.014286\n",
      "\n",
      "🔥 **Top 3 Grounds for Mohammed Shami:**\n",
      "   Ground  Bowler  Wickets  Economy\n",
      "  W.A.C.A       0       27 7.110000\n",
      "Melbourne       0       26 7.092857\n",
      "   Sydney       0       23 8.582500\n",
      "\n",
      "❌ **Worst 3 Grounds for Mohammed Shami:**\n",
      "  Ground  Bowler  Wickets  Economy\n",
      "Canberra       0        6 8.640000\n",
      "Brisbane       0       12 7.766667\n",
      "Adelaide       0       14 7.664000\n"
     ]
    }
   ],
   "source": [
    "# Find best performing grounds based on Wickets & Economy\n",
    "best_grounds = data.groupby([\"Ground\", \"Bowler\"]).agg({\"Wickets\": \"sum\", \"Economy\": \"mean\"}).reset_index()\n",
    "\n",
    "# Best Grounds: Sort by most wickets\n",
    "bumrah_best_grounds = best_grounds[best_grounds[\"Bowler\"] == 1].sort_values(by=\"Wickets\", ascending=False).head(3)\n",
    "shami_best_grounds = best_grounds[best_grounds[\"Bowler\"] == 0].sort_values(by=\"Wickets\", ascending=False).head(3)\n",
    "\n",
    "# Worst Grounds: Sort by least wickets and highest economy\n",
    "bumrah_worst_grounds = best_grounds[best_grounds[\"Bowler\"] == 1].sort_values(by=[\"Wickets\", \"Economy\"], ascending=[True, False]).head(3)\n",
    "shami_worst_grounds = best_grounds[best_grounds[\"Bowler\"] == 0].sort_values(by=[\"Wickets\", \"Economy\"], ascending=[True, False]).head(3)\n",
    "\n",
    "# Print results in a clean format\n",
    "print(\"\\n🔥 **Top 3 Grounds for Jasprit Bumrah:**\")\n",
    "print(bumrah_best_grounds.to_string(index=False))\n",
    "\n",
    "print(\"\\n❌ **Worst 3 Grounds for Jasprit Bumrah:**\")\n",
    "print(bumrah_worst_grounds.to_string(index=False))\n",
    "\n",
    "print(\"\\n🔥 **Top 3 Grounds for Mohammed Shami:**\")\n",
    "print(shami_best_grounds.to_string(index=False))\n",
    "\n",
    "print(\"\\n❌ **Worst 3 Grounds for Mohammed Shami:**\")\n",
    "print(shami_worst_grounds.to_string(index=False))\n"
   ]
  },
  {
   "cell_type": "code",
   "execution_count": null,
   "id": "9d1d694f",
   "metadata": {},
   "outputs": [
    {
     "name": "stdout",
     "output_type": "stream",
     "text": [
      "Gradient Boosting Model Accuracy: 0.6666666666666666\n",
      "\n",
      "Classification Report:\n",
      "               precision    recall  f1-score   support\n",
      "\n",
      "           0       0.60      0.60      0.60        10\n",
      "           1       0.71      0.71      0.71        14\n",
      "\n",
      "    accuracy                           0.67        24\n",
      "   macro avg       0.66      0.66      0.66        24\n",
      "weighted avg       0.67      0.67      0.67        24\n",
      "\n"
     ]
    }
   ],
   "source": [
    "# Train the Gradient Boosting Model\n",
    "gb_model = GradientBoostingClassifier(n_estimators=200, learning_rate=0.1, max_depth=4, min_samples_split=5, random_state=42)\n",
    "gb_model.fit(X_train_scaled, y_train)\n",
    "\n",
    "# Predictions on the test set\n",
    "y_pred_gb = gb_model.predict(X_test_scaled)\n",
    "\n",
    "# Evaluate the model\n",
    "accuracy_gb = accuracy_score(y_test, y_pred_gb)\n",
    "print(\"Gradient Boosting Model Accuracy:\", accuracy_gb)\n",
    "\n",
    "# Classification report\n",
    "print(\"\\nClassification Report:\\n\", classification_report(y_test, y_pred_gb))\n"
   ]
  },
  {
   "cell_type": "code",
   "execution_count": 9,
   "id": "f21f5317",
   "metadata": {},
   "outputs": [
    {
     "name": "stdout",
     "output_type": "stream",
     "text": [
      "\n",
      "🏆 **Predicted Best Bowler for the Match:** Jasprit Bumrah\n"
     ]
    }
   ],
   "source": [
    "# Define a sample match scenario (T20 match)\n",
    "sample_input = pd.DataFrame({\n",
    "    \"Overs\": [4],        # Number of overs bowled\n",
    "    \"Maidens\": [0],      # Maiden overs\n",
    "    \"Runs\": [30],        # Runs conceded\n",
    "    \"Economy\": [7.5],    # Economy rate\n",
    "    \"Wickets\": [2],      # Wickets taken\n",
    "    \"Strike Rate\": [12], # Balls per wicket\n",
    "    \"Bowling Average\": [15] # Runs per wicket\n",
    "})\n",
    "\n",
    "# Scale the input using the same scaler\n",
    "sample_input_scaled = scaler.transform(sample_input)\n",
    "\n",
    "# Predict the bowler\n",
    "predicted_bowler = gb_model.predict(sample_input_scaled)\n",
    "bowler_name = \"Jasprit Bumrah\" if predicted_bowler[0] == 1 else \"Mohammed Shami\"\n",
    "\n",
    "print(\"\\n🏆 **Predicted Best Bowler for the Match:**\", bowler_name)\n"
   ]
  },
  {
   "cell_type": "code",
   "execution_count": 20,
   "id": "b0a988fc",
   "metadata": {},
   "outputs": [
    {
     "name": "stdout",
     "output_type": "stream",
     "text": [
      "🌟 Random Forest Model Accuracy: 0.7083333333333334\n",
      "\n",
      "Classification Report:\n",
      "               precision    recall  f1-score   support\n",
      "\n",
      "           0       0.62      0.80      0.70        10\n",
      "           1       0.82      0.64      0.72        14\n",
      "\n",
      "    accuracy                           0.71        24\n",
      "   macro avg       0.72      0.72      0.71        24\n",
      "weighted avg       0.73      0.71      0.71        24\n",
      "\n"
     ]
    }
   ],
   "source": [
    "from sklearn.ensemble import RandomForestClassifier\n",
    "from sklearn.metrics import accuracy_score, classification_report\n",
    "\n",
    "# Initialize Random Forest model\n",
    "rf_model = RandomForestClassifier(n_estimators=300, max_depth=6, min_samples_split=5, random_state=42)\n",
    "\n",
    "# Train the model\n",
    "rf_model.fit(X_train_scaled, y_train)\n",
    "\n",
    "# Predictions on the test set\n",
    "y_pred_rf = rf_model.predict(X_test_scaled)\n",
    "\n",
    "# Evaluate model performance\n",
    "accuracy_rf = accuracy_score(y_test, y_pred_rf)\n",
    "print(\"🌟 Random Forest Model Accuracy:\", accuracy_rf)\n",
    "\n",
    "# Classification report\n",
    "print(\"\\nClassification Report:\\n\", classification_report(y_test, y_pred_rf))\n",
    "\n"
   ]
  },
  {
   "cell_type": "code",
   "execution_count": 21,
   "id": "25bb82b2",
   "metadata": {},
   "outputs": [
    {
     "name": "stdout",
     "output_type": "stream",
     "text": [
      "\n",
      "🏆 **Predicted Best Bowler for the Match (Random Forest):** Jasprit Bumrah\n"
     ]
    }
   ],
   "source": [
    "# Define a sample match scenario (T20 match)\n",
    "sample_input = pd.DataFrame({\n",
    "    \"Overs\": [4],        # Number of overs bowled\n",
    "    \"Maidens\": [0],      # Maiden overs\n",
    "    \"Runs\": [30],        # Runs conceded\n",
    "    \"Economy\": [7.5],    # Economy rate\n",
    "    \"Wickets\": [2],      # Wickets taken\n",
    "    \"Strike Rate\": [12], # Balls per wicket\n",
    "    \"Bowling Average\": [15] # Runs per wicket\n",
    "})\n",
    "\n",
    "# Scale the input using the same scaler\n",
    "sample_input_scaled = scaler.transform(sample_input)\n",
    "\n",
    "# Predict the bowler using Random Forest\n",
    "predicted_bowler_rf = rf_model.predict(sample_input_scaled)\n",
    "bowler_name_rf = \"Jasprit Bumrah\" if predicted_bowler_rf[0] == 1 else \"Mohammed Shami\"\n",
    "\n",
    "print(\"\\n🏆 **Predicted Best Bowler for the Match (Random Forest):**\", bowler_name_rf)\n"
   ]
  }
 ],
 "metadata": {
  "kernelspec": {
   "display_name": "Python 3",
   "language": "python",
   "name": "python3"
  },
  "language_info": {
   "codemirror_mode": {
    "name": "ipython",
    "version": 3
   },
   "file_extension": ".py",
   "mimetype": "text/x-python",
   "name": "python",
   "nbconvert_exporter": "python",
   "pygments_lexer": "ipython3",
   "version": "3.12.6"
  }
 },
 "nbformat": 4,
 "nbformat_minor": 5
}
