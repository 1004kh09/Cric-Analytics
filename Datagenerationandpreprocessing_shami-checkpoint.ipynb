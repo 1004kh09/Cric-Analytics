{
 "cells": [
  {
   "cell_type": "code",
   "execution_count": 2,
   "id": "4bc5d080-ed08-4be5-b28d-1064f5af2157",
   "metadata": {},
   "outputs": [
    {
     "name": "stdout",
     "output_type": "stream",
     "text": [
      "Expanded dataset saved to Expanded_Mohammed_Shami_Data.xlsx\n"
     ]
    }
   ],
   "source": [
    "# Code: Data Collection and Synthetic Data Generation\n",
    "\n",
    "# Import necessary libraries\n",
    "import pandas as pd\n",
    "import numpy as np\n",
    "\n",
    "# Load the original dataset\n",
    "original_file_path = \"path_to_original_file.xlsx\"  # Replace with your file path\n",
    "original_data = pd.ExcelFile(r\"C:\\Users\\91877\\Desktop\\cricket_ML\\Complete_Mohammed_Shami_Data.xlsx\").parse(sheet_name=0)  # Load the first sheet\n",
    "\n",
    "# Function to generate synthetic data based on statistical patterns in the dataset\n",
    "def generate_synthetic_data(original_data, num_samples=50):\n",
    "    synthetic_data = []\n",
    "    \n",
    "    for _ in range(num_samples):\n",
    "        # Randomly sample from existing data distributions for key metrics\n",
    "        overs = np.random.uniform(2, 10)  # Overs typically range from 2 to 10\n",
    "        maidens = np.random.randint(0, 2) if overs > 5 else 0  # Maiden overs are rare\n",
    "        runs = np.random.uniform(overs * 4, overs * 12)  # Runs depend on overs\n",
    "        wickets = np.random.choice([0, 1, 2, 3, 4])  # Wickets distribution\n",
    "        economy = runs / overs  # Calculate economy rate\n",
    "        position = np.random.randint(1, 5)  # Position in the bowling order\n",
    "        innings = np.random.choice([1, 2])  # First or second innings\n",
    "        opposition = np.random.choice(original_data[\"Opposition\"].unique())  # Random opponent\n",
    "        ground = np.random.choice(original_data[\"Ground\"].unique())  # Random ground\n",
    "        start_date = pd.Timestamp(np.random.choice(pd.date_range(\"2015-01-01\", \"2023-01-01\")))  # Random date\n",
    "        format_type = np.random.choice(original_data[\"Format\"].unique())  # T20I or ODI\n",
    "\n",
    "        synthetic_data.append([\n",
    "            \"Mohammed_shami\", overs, maidens, round(runs), wickets, round(economy, 2),\n",
    "            position, innings, opposition, ground, start_date.date(), format_type\n",
    "        ])\n",
    "    \n",
    "    return pd.DataFrame(synthetic_data, columns=original_data.columns)\n",
    "\n",
    "# Generate synthetic data\n",
    "num_synthetic_samples = 50\n",
    "synthetic_data = generate_synthetic_data(original_data, num_samples=num_synthetic_samples)\n",
    "\n",
    "# Combine original and synthetic data\n",
    "expanded_data = pd.concat([original_data, synthetic_data], ignore_index=True)\n",
    "\n",
    "# Save the expanded dataset to a file\n",
    "output_file_path = \"Expanded_Mohammed_Shami_Data.xlsx\"  # Output file name\n",
    "expanded_data.to_excel(output_file_path, index=False)\n",
    "\n",
    "print(f\"Expanded dataset saved to {output_file_path}\")\n"
   ]
  },
  {
   "cell_type": "code",
   "execution_count": 3,
   "id": "31c1d9f2-e966-4d15-84a5-8a3b3644296a",
   "metadata": {},
   "outputs": [
    {
     "data": {
      "text/html": [
       "<a href='Expanded_Mohammed_Shami_Data.xlsx' target='_blank'>Expanded_Mohammed_Shami_Data.xlsx</a><br>"
      ],
      "text/plain": [
       "C:\\Users\\91877\\Expanded_Mohammed_Shami_Data.xlsx"
      ]
     },
     "metadata": {},
     "output_type": "display_data"
    }
   ],
   "source": [
    "from IPython.display import FileLink\n",
    "\n",
    "# Provide a downloadable link for the output file\n",
    "output_file_path = \"Expanded_Mohammed_Shami_Data.xlsx\"  # Replace with the actual path if different\n",
    "display(FileLink(output_file_path))\n"
   ]
  },
  {
   "cell_type": "code",
   "execution_count": 11,
   "id": "20586cba-9af9-420d-8f9e-575116ee1615",
   "metadata": {},
   "outputs": [
    {
     "data": {
      "text/html": [
       "<div>\n",
       "<style scoped>\n",
       "    .dataframe tbody tr th:only-of-type {\n",
       "        vertical-align: middle;\n",
       "    }\n",
       "\n",
       "    .dataframe tbody tr th {\n",
       "        vertical-align: top;\n",
       "    }\n",
       "\n",
       "    .dataframe thead th {\n",
       "        text-align: right;\n",
       "    }\n",
       "</style>\n",
       "<table border=\"1\" class=\"dataframe\">\n",
       "  <thead>\n",
       "    <tr style=\"text-align: right;\">\n",
       "      <th></th>\n",
       "      <th>Player_name</th>\n",
       "      <th>Overs</th>\n",
       "      <th>Maidens</th>\n",
       "      <th>Runs</th>\n",
       "      <th>Wickets</th>\n",
       "      <th>Economy</th>\n",
       "      <th>Position</th>\n",
       "      <th>Innings</th>\n",
       "      <th>Opposition</th>\n",
       "      <th>Ground</th>\n",
       "      <th>Start Date</th>\n",
       "      <th>Format</th>\n",
       "    </tr>\n",
       "  </thead>\n",
       "  <tbody>\n",
       "    <tr>\n",
       "      <th>0</th>\n",
       "      <td>Mohammed_shami</td>\n",
       "      <td>4.0</td>\n",
       "      <td>0</td>\n",
       "      <td>46</td>\n",
       "      <td>0</td>\n",
       "      <td>11.50</td>\n",
       "      <td>3</td>\n",
       "      <td>2</td>\n",
       "      <td>v Australia</td>\n",
       "      <td>Canberra</td>\n",
       "      <td>4 Dec 2020</td>\n",
       "      <td>T20I</td>\n",
       "    </tr>\n",
       "    <tr>\n",
       "      <th>1</th>\n",
       "      <td>Mohammed_shami</td>\n",
       "      <td>4.0</td>\n",
       "      <td>0</td>\n",
       "      <td>25</td>\n",
       "      <td>1</td>\n",
       "      <td>6.25</td>\n",
       "      <td>3</td>\n",
       "      <td>1</td>\n",
       "      <td>v Pakistan</td>\n",
       "      <td>Melbourne</td>\n",
       "      <td>23 Oct 2022</td>\n",
       "      <td>T20I</td>\n",
       "    </tr>\n",
       "    <tr>\n",
       "      <th>2</th>\n",
       "      <td>Mohammed_shami</td>\n",
       "      <td>4.0</td>\n",
       "      <td>0</td>\n",
       "      <td>27</td>\n",
       "      <td>1</td>\n",
       "      <td>6.75</td>\n",
       "      <td>3</td>\n",
       "      <td>2</td>\n",
       "      <td>v Netherlands</td>\n",
       "      <td>Sydney</td>\n",
       "      <td>27 Oct 2022</td>\n",
       "      <td>T20I</td>\n",
       "    </tr>\n",
       "    <tr>\n",
       "      <th>3</th>\n",
       "      <td>Mohammed_shami</td>\n",
       "      <td>4.0</td>\n",
       "      <td>0</td>\n",
       "      <td>13</td>\n",
       "      <td>1</td>\n",
       "      <td>3.25</td>\n",
       "      <td>3</td>\n",
       "      <td>2</td>\n",
       "      <td>v South Africa</td>\n",
       "      <td>Perth</td>\n",
       "      <td>30 Oct 2022</td>\n",
       "      <td>T20I</td>\n",
       "    </tr>\n",
       "    <tr>\n",
       "      <th>4</th>\n",
       "      <td>Mohammed_shami</td>\n",
       "      <td>3.0</td>\n",
       "      <td>0</td>\n",
       "      <td>25</td>\n",
       "      <td>1</td>\n",
       "      <td>8.33</td>\n",
       "      <td>3</td>\n",
       "      <td>2</td>\n",
       "      <td>v Bangladesh</td>\n",
       "      <td>Adelaide</td>\n",
       "      <td>2 Nov 2022</td>\n",
       "      <td>T20I</td>\n",
       "    </tr>\n",
       "  </tbody>\n",
       "</table>\n",
       "</div>"
      ],
      "text/plain": [
       "      Player_name  Overs  Maidens  Runs  Wickets  Economy  Position  Innings  \\\n",
       "0  Mohammed_shami    4.0        0    46        0    11.50         3        2   \n",
       "1  Mohammed_shami    4.0        0    25        1     6.25         3        1   \n",
       "2  Mohammed_shami    4.0        0    27        1     6.75         3        2   \n",
       "3  Mohammed_shami    4.0        0    13        1     3.25         3        2   \n",
       "4  Mohammed_shami    3.0        0    25        1     8.33         3        2   \n",
       "\n",
       "       Opposition     Ground   Start Date Format  \n",
       "0     v Australia   Canberra   4 Dec 2020   T20I  \n",
       "1      v Pakistan  Melbourne  23 Oct 2022   T20I  \n",
       "2   v Netherlands     Sydney  27 Oct 2022   T20I  \n",
       "3  v South Africa      Perth  30 Oct 2022   T20I  \n",
       "4    v Bangladesh   Adelaide   2 Nov 2022   T20I  "
      ]
     },
     "execution_count": 11,
     "metadata": {},
     "output_type": "execute_result"
    }
   ],
   "source": [
    "# Import necessary libraries\n",
    "import pandas as pd\n",
    "\n",
    "# Load the expanded dataset\n",
    "file_path = \"Expanded_Mohammed_Shami_Data.xlsx\"  # Replace with the actual file path\n",
    "data = pd.read_excel(r\"C:\\Users\\91877\\Desktop\\cricket_ML\\Complete_Mohammed_Shami_Data.xlsx\")\n",
    "\n",
    "\n",
    "# Display the first few rows to inspect the dataset\n",
    "data.head()\n",
    "\n"
   ]
  },
  {
   "cell_type": "code",
   "execution_count": 14,
   "id": "b2d10e0c-230a-4a5f-9d6a-9303ce2310ea",
   "metadata": {},
   "outputs": [
    {
     "name": "stdout",
     "output_type": "stream",
     "text": [
      "Dataset with introduced noise and blank rows:\n",
      "       Player_name      Overs  Maidens       Runs  Wickets   Economy  \\\n",
      "13  Mohammed_shami   7.786827      1.0  34.619091      2.0  4.623962   \n",
      "14  Mohammed_shami  10.097761      0.0  65.712845      0.0  6.516996   \n",
      "15  Mohammed_shami        NaN      0.0  42.666868      NaN       NaN   \n",
      "16  Mohammed_shami  10.496455      0.0  58.256555      3.0  5.790962   \n",
      "17  Mohammed_shami        NaN      0.0  49.577114      NaN       NaN   \n",
      "18  Mohammed_shami        NaN      0.0  58.382108      NaN       NaN   \n",
      "19  Mohammed_shami        NaN      0.0  74.193452      NaN       NaN   \n",
      "20             NaN        NaN      NaN        NaN      NaN       NaN   \n",
      "21             NaN        NaN      NaN        NaN      NaN       NaN   \n",
      "22             NaN        NaN      NaN        NaN      NaN       NaN   \n",
      "\n",
      "    Position  Innings    Opposition     Ground   Start Date Format  \n",
      "13       2.0      2.0  v Bangladesh  Melbourne  19 Mar 2015    ODI  \n",
      "14       1.0      1.0   v Australia     Sydney  26 Mar 2015    ODI  \n",
      "15       3.0      1.0   v Australia     Sydney  12 Jan 2019    ODI  \n",
      "16       2.0      1.0   v Australia   Adelaide  15 Jan 2019    ODI  \n",
      "17       2.0      1.0   v Australia  Melbourne  18 Jan 2019    ODI  \n",
      "18       1.0      1.0   v Australia     Sydney  27 Nov 2020    ODI  \n",
      "19       1.0      1.0   v Australia     Sydney  29 Nov 2020    ODI  \n",
      "20       NaN      NaN           NaN        NaN          NaN    NaN  \n",
      "21       NaN      NaN           NaN        NaN          NaN    NaN  \n",
      "22       NaN      NaN           NaN        NaN          NaN    NaN  \n"
     ]
    }
   ],
   "source": [
    "import numpy as np\n",
    "\n",
    "# Add random noise to numerical features\n",
    "# Adding Gaussian noise (mean=0, std=10% of the column's standard deviation) to these columns\n",
    "columns_to_add_noise = [\"Overs\", \"Runs\", \"Wickets\", \"Economy\"]\n",
    "\n",
    "for col in columns_to_add_noise:\n",
    "    std_dev = data[col].std() * 0.1  # 10% of standard deviation\n",
    "    noise = np.random.normal(0, std_dev, size=len(data))\n",
    "    data[col] += noise  # Add noise to the column\n",
    "\n",
    "# Round columns that should remain integers (like Wickets)\n",
    "data[\"Wickets\"] = data[\"Wickets\"].round()\n",
    "\n",
    "# Display the data to verify noise has been added\n",
    "data.head()\n",
    "# Add some blank rows and introduce missing values randomly\n",
    "# Introduce missing values in key columns: Overs, Runs, Wickets, Economy\n",
    "rows_with_noise = np.random.choice(data.index, size=5, replace=False)  # Select 5 random rows\n",
    "for row in rows_with_noise:\n",
    "    data.loc[row, \"Overs\"] = np.nan\n",
    "    data.loc[row, \"Wickets\"] = np.nan\n",
    "    data.loc[row, \"Economy\"] = np.nan\n",
    "\n",
    "# Add 3 blank rows by appending NaN rows\n",
    "blank_rows = pd.DataFrame(np.nan, index=range(3), columns=data.columns)  # Create 3 blank rows\n",
    "data_with_blanks = pd.concat([data, blank_rows], ignore_index=True)\n",
    "\n",
    "# Display the dataset with missing values and blanks\n",
    "print(\"Dataset with introduced noise and blank rows:\")\n",
    "print(data_with_blanks.tail(10))  # Show the last 10 rows for verification\n"
   ]
  },
  {
   "cell_type": "code",
   "execution_count": 17,
   "id": "2fa82cbd-3e47-45c4-a61d-7ddc6a0dd402",
   "metadata": {},
   "outputs": [
    {
     "name": "stdout",
     "output_type": "stream",
     "text": [
      "Missing values in each column:\n",
      "Player_name     3\n",
      "Overs          16\n",
      "Maidens         3\n",
      "Runs            3\n",
      "Wickets        16\n",
      "Economy        16\n",
      "Position        3\n",
      "Innings         3\n",
      "Opposition      3\n",
      "Ground          3\n",
      "Start Date      3\n",
      "Format          3\n",
      "dtype: int64\n",
      "\n",
      "Total missing values in the dataset: 75\n"
     ]
    }
   ],
   "source": [
    "# Check for missing values in the dataset\n",
    "missing_values = data_with_blanks.isnull().sum()\n",
    "\n",
    "# Display columns with missing values\n",
    "print(\"Missing values in each column:\")\n",
    "print(missing_values)\n",
    "\n",
    "# Display the total number of missing values\n",
    "total_missing = missing_values.sum()\n",
    "print(f\"\\nTotal missing values in the dataset: {total_missing}\")\n"
   ]
  },
  {
   "cell_type": "code",
   "execution_count": 25,
   "id": "be77e449-3c21-4b84-9d0e-5aac44dc63b4",
   "metadata": {},
   "outputs": [],
   "source": [
    "# Fill numerical columns with mean or median\n",
    "data[\"Overs\"] = data[\"Overs\"].fillna(data[\"Overs\"].mean())\n",
    "data[\"Wickets\"] = data[\"Wickets\"].fillna(data[\"Wickets\"].median())\n",
    "data[\"Economy\"] = data[\"Economy\"].fillna(data[\"Economy\"].mean())\n",
    "data[\"Position\"] = data[\"Position\"].fillna(data[\"Position\"].mode()[0])\n",
    "data[\"Innings\"] = data[\"Innings\"].fillna(data[\"Innings\"].mode()[0])\n"
   ]
  },
  {
   "cell_type": "code",
   "execution_count": 26,
   "id": "e1e112ed-a799-4f9b-bf46-098088d0f024",
   "metadata": {},
   "outputs": [],
   "source": [
    "# Fill categorical columns with mode\n",
    "data[\"Opposition\"] = data[\"Opposition\"].fillna(data[\"Opposition\"].mode()[0])\n",
    "data[\"Ground\"] = data[\"Ground\"].fillna(data[\"Ground\"].mode()[0])\n",
    "data[\"Format\"] = data[\"Format\"].fillna(data[\"Format\"].mode()[0])\n"
   ]
  },
  {
   "cell_type": "code",
   "execution_count": 27,
   "id": "b6318e60-70d7-4a0e-9905-c6bfa670f25d",
   "metadata": {},
   "outputs": [
    {
     "ename": "TypeError",
     "evalue": "Cannot convert ['4 Dec 2020' '23 Oct 2022' '27 Oct 2022' '30 Oct 2022' '2 Nov 2022'\n '6 Nov 2022' '10 Nov 2022' '18 Jan 2015' '20 Jan 2015' '30 Jan 2015'\n '15 Feb 2015' '22 Feb 2015' '6 Mar 2015' '19 Mar 2015' '26 Mar 2015'\n '12 Jan 2019' '15 Jan 2019' '18 Jan 2019' '27 Nov 2020' '29 Nov 2020'] to numeric",
     "output_type": "error",
     "traceback": [
      "\u001b[1;31m---------------------------------------------------------------------------\u001b[0m",
      "\u001b[1;31mTypeError\u001b[0m                                 Traceback (most recent call last)",
      "Cell \u001b[1;32mIn[27], line 2\u001b[0m\n\u001b[0;32m      1\u001b[0m \u001b[38;5;66;03m# Fill missing dates with the median date\u001b[39;00m\n\u001b[1;32m----> 2\u001b[0m data[\u001b[38;5;124m\"\u001b[39m\u001b[38;5;124mStart Date\u001b[39m\u001b[38;5;124m\"\u001b[39m] \u001b[38;5;241m=\u001b[39m data[\u001b[38;5;124m\"\u001b[39m\u001b[38;5;124mStart Date\u001b[39m\u001b[38;5;124m\"\u001b[39m]\u001b[38;5;241m.\u001b[39mfillna(data[\u001b[38;5;124m\"\u001b[39m\u001b[38;5;124mStart Date\u001b[39m\u001b[38;5;124m\"\u001b[39m]\u001b[38;5;241m.\u001b[39mmedian())\n",
      "File \u001b[1;32m~\\anaconda3\\Lib\\site-packages\\pandas\\core\\series.py:6235\u001b[0m, in \u001b[0;36mSeries.median\u001b[1;34m(self, axis, skipna, numeric_only, **kwargs)\u001b[0m\n\u001b[0;32m   6227\u001b[0m \u001b[38;5;129m@doc\u001b[39m(make_doc(\u001b[38;5;124m\"\u001b[39m\u001b[38;5;124mmedian\u001b[39m\u001b[38;5;124m\"\u001b[39m, ndim\u001b[38;5;241m=\u001b[39m\u001b[38;5;241m1\u001b[39m))\n\u001b[0;32m   6228\u001b[0m \u001b[38;5;28;01mdef\u001b[39;00m \u001b[38;5;21mmedian\u001b[39m(\n\u001b[0;32m   6229\u001b[0m     \u001b[38;5;28mself\u001b[39m,\n\u001b[1;32m   (...)\u001b[0m\n\u001b[0;32m   6233\u001b[0m     \u001b[38;5;241m*\u001b[39m\u001b[38;5;241m*\u001b[39mkwargs,\n\u001b[0;32m   6234\u001b[0m ):\n\u001b[1;32m-> 6235\u001b[0m     \u001b[38;5;28;01mreturn\u001b[39;00m NDFrame\u001b[38;5;241m.\u001b[39mmedian(\u001b[38;5;28mself\u001b[39m, axis, skipna, numeric_only, \u001b[38;5;241m*\u001b[39m\u001b[38;5;241m*\u001b[39mkwargs)\n",
      "File \u001b[1;32m~\\anaconda3\\Lib\\site-packages\\pandas\\core\\generic.py:12003\u001b[0m, in \u001b[0;36mNDFrame.median\u001b[1;34m(self, axis, skipna, numeric_only, **kwargs)\u001b[0m\n\u001b[0;32m  11996\u001b[0m \u001b[38;5;28;01mdef\u001b[39;00m \u001b[38;5;21mmedian\u001b[39m(\n\u001b[0;32m  11997\u001b[0m     \u001b[38;5;28mself\u001b[39m,\n\u001b[0;32m  11998\u001b[0m     axis: Axis \u001b[38;5;241m|\u001b[39m \u001b[38;5;28;01mNone\u001b[39;00m \u001b[38;5;241m=\u001b[39m \u001b[38;5;241m0\u001b[39m,\n\u001b[1;32m   (...)\u001b[0m\n\u001b[0;32m  12001\u001b[0m     \u001b[38;5;241m*\u001b[39m\u001b[38;5;241m*\u001b[39mkwargs,\n\u001b[0;32m  12002\u001b[0m ) \u001b[38;5;241m-\u001b[39m\u001b[38;5;241m>\u001b[39m Series \u001b[38;5;241m|\u001b[39m \u001b[38;5;28mfloat\u001b[39m:\n\u001b[1;32m> 12003\u001b[0m     \u001b[38;5;28;01mreturn\u001b[39;00m \u001b[38;5;28mself\u001b[39m\u001b[38;5;241m.\u001b[39m_stat_function(\n\u001b[0;32m  12004\u001b[0m         \u001b[38;5;124m\"\u001b[39m\u001b[38;5;124mmedian\u001b[39m\u001b[38;5;124m\"\u001b[39m, nanops\u001b[38;5;241m.\u001b[39mnanmedian, axis, skipna, numeric_only, \u001b[38;5;241m*\u001b[39m\u001b[38;5;241m*\u001b[39mkwargs\n\u001b[0;32m  12005\u001b[0m     )\n",
      "File \u001b[1;32m~\\anaconda3\\Lib\\site-packages\\pandas\\core\\generic.py:11949\u001b[0m, in \u001b[0;36mNDFrame._stat_function\u001b[1;34m(self, name, func, axis, skipna, numeric_only, **kwargs)\u001b[0m\n\u001b[0;32m  11945\u001b[0m nv\u001b[38;5;241m.\u001b[39mvalidate_func(name, (), kwargs)\n\u001b[0;32m  11947\u001b[0m validate_bool_kwarg(skipna, \u001b[38;5;124m\"\u001b[39m\u001b[38;5;124mskipna\u001b[39m\u001b[38;5;124m\"\u001b[39m, none_allowed\u001b[38;5;241m=\u001b[39m\u001b[38;5;28;01mFalse\u001b[39;00m)\n\u001b[1;32m> 11949\u001b[0m \u001b[38;5;28;01mreturn\u001b[39;00m \u001b[38;5;28mself\u001b[39m\u001b[38;5;241m.\u001b[39m_reduce(\n\u001b[0;32m  11950\u001b[0m     func, name\u001b[38;5;241m=\u001b[39mname, axis\u001b[38;5;241m=\u001b[39maxis, skipna\u001b[38;5;241m=\u001b[39mskipna, numeric_only\u001b[38;5;241m=\u001b[39mnumeric_only\n\u001b[0;32m  11951\u001b[0m )\n",
      "File \u001b[1;32m~\\anaconda3\\Lib\\site-packages\\pandas\\core\\series.py:6133\u001b[0m, in \u001b[0;36mSeries._reduce\u001b[1;34m(self, op, name, axis, skipna, numeric_only, filter_type, **kwds)\u001b[0m\n\u001b[0;32m   6128\u001b[0m     \u001b[38;5;66;03m# GH#47500 - change to TypeError to match other methods\u001b[39;00m\n\u001b[0;32m   6129\u001b[0m     \u001b[38;5;28;01mraise\u001b[39;00m \u001b[38;5;167;01mTypeError\u001b[39;00m(\n\u001b[0;32m   6130\u001b[0m         \u001b[38;5;124mf\u001b[39m\u001b[38;5;124m\"\u001b[39m\u001b[38;5;124mSeries.\u001b[39m\u001b[38;5;132;01m{\u001b[39;00mname\u001b[38;5;132;01m}\u001b[39;00m\u001b[38;5;124m does not allow \u001b[39m\u001b[38;5;132;01m{\u001b[39;00mkwd_name\u001b[38;5;132;01m}\u001b[39;00m\u001b[38;5;124m=\u001b[39m\u001b[38;5;132;01m{\u001b[39;00mnumeric_only\u001b[38;5;132;01m}\u001b[39;00m\u001b[38;5;124m \u001b[39m\u001b[38;5;124m\"\u001b[39m\n\u001b[0;32m   6131\u001b[0m         \u001b[38;5;124m\"\u001b[39m\u001b[38;5;124mwith non-numeric dtypes.\u001b[39m\u001b[38;5;124m\"\u001b[39m\n\u001b[0;32m   6132\u001b[0m     )\n\u001b[1;32m-> 6133\u001b[0m \u001b[38;5;28;01mreturn\u001b[39;00m op(delegate, skipna\u001b[38;5;241m=\u001b[39mskipna, \u001b[38;5;241m*\u001b[39m\u001b[38;5;241m*\u001b[39mkwds)\n",
      "File \u001b[1;32m~\\anaconda3\\Lib\\site-packages\\pandas\\core\\nanops.py:147\u001b[0m, in \u001b[0;36mbottleneck_switch.__call__.<locals>.f\u001b[1;34m(values, axis, skipna, **kwds)\u001b[0m\n\u001b[0;32m    145\u001b[0m         result \u001b[38;5;241m=\u001b[39m alt(values, axis\u001b[38;5;241m=\u001b[39maxis, skipna\u001b[38;5;241m=\u001b[39mskipna, \u001b[38;5;241m*\u001b[39m\u001b[38;5;241m*\u001b[39mkwds)\n\u001b[0;32m    146\u001b[0m \u001b[38;5;28;01melse\u001b[39;00m:\n\u001b[1;32m--> 147\u001b[0m     result \u001b[38;5;241m=\u001b[39m alt(values, axis\u001b[38;5;241m=\u001b[39maxis, skipna\u001b[38;5;241m=\u001b[39mskipna, \u001b[38;5;241m*\u001b[39m\u001b[38;5;241m*\u001b[39mkwds)\n\u001b[0;32m    149\u001b[0m \u001b[38;5;28;01mreturn\u001b[39;00m result\n",
      "File \u001b[1;32m~\\anaconda3\\Lib\\site-packages\\pandas\\core\\nanops.py:783\u001b[0m, in \u001b[0;36mnanmedian\u001b[1;34m(values, axis, skipna, mask)\u001b[0m\n\u001b[0;32m    781\u001b[0m     inferred \u001b[38;5;241m=\u001b[39m lib\u001b[38;5;241m.\u001b[39minfer_dtype(values)\n\u001b[0;32m    782\u001b[0m     \u001b[38;5;28;01mif\u001b[39;00m inferred \u001b[38;5;129;01min\u001b[39;00m [\u001b[38;5;124m\"\u001b[39m\u001b[38;5;124mstring\u001b[39m\u001b[38;5;124m\"\u001b[39m, \u001b[38;5;124m\"\u001b[39m\u001b[38;5;124mmixed\u001b[39m\u001b[38;5;124m\"\u001b[39m]:\n\u001b[1;32m--> 783\u001b[0m         \u001b[38;5;28;01mraise\u001b[39;00m \u001b[38;5;167;01mTypeError\u001b[39;00m(\u001b[38;5;124mf\u001b[39m\u001b[38;5;124m\"\u001b[39m\u001b[38;5;124mCannot convert \u001b[39m\u001b[38;5;132;01m{\u001b[39;00mvalues\u001b[38;5;132;01m}\u001b[39;00m\u001b[38;5;124m to numeric\u001b[39m\u001b[38;5;124m\"\u001b[39m)\n\u001b[0;32m    784\u001b[0m \u001b[38;5;28;01mtry\u001b[39;00m:\n\u001b[0;32m    785\u001b[0m     values \u001b[38;5;241m=\u001b[39m values\u001b[38;5;241m.\u001b[39mastype(\u001b[38;5;124m\"\u001b[39m\u001b[38;5;124mf8\u001b[39m\u001b[38;5;124m\"\u001b[39m)\n",
      "\u001b[1;31mTypeError\u001b[0m: Cannot convert ['4 Dec 2020' '23 Oct 2022' '27 Oct 2022' '30 Oct 2022' '2 Nov 2022'\n '6 Nov 2022' '10 Nov 2022' '18 Jan 2015' '20 Jan 2015' '30 Jan 2015'\n '15 Feb 2015' '22 Feb 2015' '6 Mar 2015' '19 Mar 2015' '26 Mar 2015'\n '12 Jan 2019' '15 Jan 2019' '18 Jan 2019' '27 Nov 2020' '29 Nov 2020'] to numeric"
     ]
    }
   ],
   "source": [
    "# Fill missing dates with the median date\n",
    "data[\"Start Date\"] = data[\"Start Date\"].fillna(data[\"Start Date\"].median())\n"
   ]
  },
  {
   "cell_type": "code",
   "execution_count": null,
   "id": "5f1ae3fa-90e7-448e-aba7-2d3d8e92793d",
   "metadata": {},
   "outputs": [],
   "source": []
  }
 ],
 "metadata": {
  "kernelspec": {
   "display_name": "Python 3 (ipykernel)",
   "language": "python",
   "name": "python3"
  },
  "language_info": {
   "codemirror_mode": {
    "name": "ipython",
    "version": 3
   },
   "file_extension": ".py",
   "mimetype": "text/x-python",
   "name": "python",
   "nbconvert_exporter": "python",
   "pygments_lexer": "ipython3",
   "version": "3.11.7"
  }
 },
 "nbformat": 4,
 "nbformat_minor": 5
}
