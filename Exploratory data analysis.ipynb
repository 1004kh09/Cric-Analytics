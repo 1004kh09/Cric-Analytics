{
 "cells": [
  {
   "cell_type": "code",
   "execution_count": 1,
   "id": "39d713c1-ece2-4db1-8e2a-e5e5ffad6c89",
   "metadata": {},
   "outputs": [
    {
     "data": {
      "text/plain": [
       "(   Player_name     Overs  Maidens  Runs  Wickets  Economy  Position  Innings  \\\n",
       " 0            0  3.300000        0    23        3     6.57         3        2   \n",
       " 1            0  9.706840        0    84        3     8.61         4        2   \n",
       " 2            0  4.673089        0    49        5    10.45         2        2   \n",
       " 3            0  6.721472        1    59        3     8.75         4        2   \n",
       " 4            0  2.255513        0    18        5     8.08         4        1   \n",
       " \n",
       "     Opposition    Ground Start Date Format  \n",
       " 0  v Australia  Adelaide 2016-01-26   T20I  \n",
       " 1  v Australia  Adelaide 2016-11-04    ODI  \n",
       " 2  v Australia  Adelaide 2022-02-11   T20I  \n",
       " 3  v Australia  Adelaide 2017-06-05   T20I  \n",
       " 4  v Australia  Adelaide 2017-01-01    ODI  ,\n",
       "    Player_name  Overs  Maidens  Runs  Wickets  Economy  Position  Innings  \\\n",
       " 0            1    4.0        0    46        0    11.50         3        2   \n",
       " 1            1    4.0        0    25        1     6.25         3        1   \n",
       " 2            1    4.0        0    27        1     6.75         3        2   \n",
       " 3            1    4.0        0    13        1     3.25         3        2   \n",
       " 4            1    3.0        0    25        1     8.33         3        2   \n",
       " \n",
       "        Opposition     Ground Start Date Format  \n",
       " 0     v Australia   Canberra 2020-12-04   T20I  \n",
       " 1      v Pakistan  Melbourne 2020-12-05   T20I  \n",
       " 2   v Netherlands     Sydney 2020-12-06   T20I  \n",
       " 3  v South Africa      Perth 2020-12-07   T20I  \n",
       " 4    v Bangladesh   Adelaide 2020-12-08   T20I  )"
      ]
     },
     "execution_count": 1,
     "metadata": {},
     "output_type": "execute_result"
    }
   ],
   "source": [
    "import pandas as pd\n",
    "\n",
    "# Load the data for both players\n",
    "bumrah_file_path = r\"C:\\Users\\91877\\Desktop\\cricket_ML\\Datasets\\Preprocessed_Jasprit_Bumrah_Data.xlsx\"\n",
    "shami_file_path = r\"C:\\Users\\91877\\Desktop\\cricket_ML\\Datasets\\Preprocessed_Mohammed_Shami_Data.xlsx\"\n",
    "\n",
    "# Load data from the first sheet of each file\n",
    "bumrah_data = pd.read_excel(bumrah_file_path, sheet_name=0)\n",
    "shami_data = pd.read_excel(shami_file_path, sheet_name=0)\n",
    "\n",
    "# Display first few rows of each dataset\n",
    "bumrah_data.head(), shami_data.head()\n"
   ]
  },
  {
   "cell_type": "code",
   "execution_count": 2,
   "id": "4328a586-26b7-4bfc-942b-b4fc8f774d0f",
   "metadata": {},
   "outputs": [
    {
     "data": {
      "text/plain": [
       "(Player_name    0\n",
       " Overs          0\n",
       " Maidens        0\n",
       " Runs           0\n",
       " Wickets        0\n",
       " Economy        0\n",
       " Position       0\n",
       " Innings        0\n",
       " Opposition     0\n",
       " Ground         0\n",
       " Start Date     0\n",
       " Format         0\n",
       " dtype: int64,\n",
       " Player_name    0\n",
       " Overs          0\n",
       " Maidens        0\n",
       " Runs           0\n",
       " Wickets        0\n",
       " Economy        0\n",
       " Position       0\n",
       " Innings        0\n",
       " Opposition     0\n",
       " Ground         0\n",
       " Start Date     0\n",
       " Format         0\n",
       " dtype: int64)"
      ]
     },
     "execution_count": 2,
     "metadata": {},
     "output_type": "execute_result"
    }
   ],
   "source": [
    "# Check for missing values\n",
    "missing_bumrah = bumrah_data.isnull().sum()\n",
    "missing_shami = shami_data.isnull().sum()\n",
    "\n",
    "missing_bumrah, missing_shami\n"
   ]
  },
  {
   "cell_type": "markdown",
   "id": "0e2f85a0-f39d-4e41-8cdf-2742206fcd9c",
   "metadata": {},
   "source": [
    "### **2. Check for Missing Values**\n",
    "- Identify if any columns have missing values.\n",
    "- Helps decide whether to impute missing values or drop rows.\n"
   ]
  },
  {
   "cell_type": "code",
   "execution_count": 3,
   "id": "fd807ea9-f916-48e5-a2dd-e60ccde8bc9f",
   "metadata": {},
   "outputs": [
    {
     "data": {
      "text/plain": [
       "(       Player_name      Overs    Maidens        Runs    Wickets    Economy  \\\n",
       " count         69.0  69.000000  69.000000   69.000000  69.000000  69.000000   \n",
       " mean           0.0   6.301909   0.275362   51.463768   2.579710   7.530725   \n",
       " min            0.0   2.164088   0.000000   13.000000   0.000000   4.000000   \n",
       " 25%            0.0   4.107747   0.000000   35.000000   1.000000   6.040000   \n",
       " 50%            0.0   6.415413   0.000000   49.000000   2.000000   7.850000   \n",
       " 75%            0.0   8.980204   1.000000   67.000000   4.000000   9.060000   \n",
       " max            0.0  10.000000   1.000000  115.000000   5.000000  11.940000   \n",
       " std            0.0   2.597786   0.449969   24.787081   1.556824   2.061340   \n",
       " \n",
       "         Position    Innings                     Start Date  \n",
       " count  69.000000  69.000000                             69  \n",
       " mean    2.536232   1.478261  2018-08-30 13:33:54.782608640  \n",
       " min     1.000000   1.000000            2015-02-06 00:00:00  \n",
       " 25%     2.000000   1.000000            2016-10-08 00:00:00  \n",
       " 50%     3.000000   1.000000            2018-01-23 00:00:00  \n",
       " 75%     3.000000   2.000000            2020-12-02 00:00:00  \n",
       " max     4.000000   2.000000            2022-12-23 00:00:00  \n",
       " std     1.092484   0.503187                            NaN  ,\n",
       "        Player_name      Overs    Maidens        Runs    Wickets    Economy  \\\n",
       " count         70.0  70.000000  70.000000   70.000000  70.000000  70.000000   \n",
       " mean           1.0   6.649424   0.300000   50.285714   1.742857   7.704571   \n",
       " min            1.0   2.000000   0.000000    9.000000   0.000000   3.250000   \n",
       " 25%            1.0   4.000000   0.000000   31.250000   1.000000   5.762500   \n",
       " 50%            1.0   7.236238   0.000000   47.500000   2.000000   7.850000   \n",
       " 75%            1.0   8.827629   1.000000   67.750000   3.000000   9.462500   \n",
       " max            1.0  10.000000   2.000000  110.000000   4.000000  13.000000   \n",
       " std            0.0   2.502599   0.491964   23.171786   1.369287   2.441319   \n",
       " \n",
       "         Position    Innings                     Start Date  \n",
       " count  70.000000  70.000000                             70  \n",
       " mean    2.500000   1.528571  2019-06-30 13:42:51.428571392  \n",
       " min     1.000000   1.000000            2015-01-13 00:00:00  \n",
       " 25%     1.000000   1.000000            2017-05-22 12:00:00  \n",
       " 50%     2.500000   2.000000            2020-12-04 12:00:00  \n",
       " 75%     4.000000   2.000000            2020-12-21 18:00:00  \n",
       " max     4.000000   2.000000            2022-12-05 00:00:00  \n",
       " std     1.164076   0.502787                            NaN  )"
      ]
     },
     "execution_count": 3,
     "metadata": {},
     "output_type": "execute_result"
    }
   ],
   "source": [
    "# Get summary statistics\n",
    "bumrah_summary = bumrah_data.describe()\n",
    "shami_summary = shami_data.describe()\n",
    "\n",
    "bumrah_summary, shami_summary\n"
   ]
  },
  {
   "cell_type": "markdown",
   "id": "d86822e4-f5b9-42e6-bf27-ccac565f10f4",
   "metadata": {},
   "source": [
    "### **3. Summary Statistics**\n",
    "- Displays key statistics: **mean, median, min, max, standard deviation**.\n",
    "- Helps understand distribution of wickets, economy rate, and overs bowled.\n"
   ]
  },
  {
   "cell_type": "code",
   "execution_count": 4,
   "id": "44c57fb0-dfd8-46f6-8b34-8cc118bf8984",
   "metadata": {},
   "outputs": [
    {
     "data": {
      "text/plain": [
       "(Player_name             int64\n",
       " Overs                 float64\n",
       " Maidens                 int64\n",
       " Runs                    int64\n",
       " Wickets                 int64\n",
       " Economy               float64\n",
       " Position                int64\n",
       " Innings                 int64\n",
       " Opposition             object\n",
       " Ground                 object\n",
       " Start Date     datetime64[ns]\n",
       " Format                 object\n",
       " dtype: object,\n",
       " Player_name             int64\n",
       " Overs                 float64\n",
       " Maidens                 int64\n",
       " Runs                    int64\n",
       " Wickets                 int64\n",
       " Economy               float64\n",
       " Position                int64\n",
       " Innings                 int64\n",
       " Opposition             object\n",
       " Ground                 object\n",
       " Start Date     datetime64[ns]\n",
       " Format                 object\n",
       " dtype: object)"
      ]
     },
     "execution_count": 4,
     "metadata": {},
     "output_type": "execute_result"
    }
   ],
   "source": [
    "# Check data types\n",
    "bumrah_data.dtypes, shami_data.dtypes\n"
   ]
  },
  {
   "cell_type": "code",
   "execution_count": 5,
   "id": "010d5b34-64fb-4749-a929-d4541c9c365c",
   "metadata": {},
   "outputs": [
    {
     "data": {
      "text/plain": [
       "(Format\n",
       " ODI     36\n",
       " T20I    33\n",
       " Name: count, dtype: int64,\n",
       " Format\n",
       " ODI     36\n",
       " T20I    34\n",
       " Name: count, dtype: int64)"
      ]
     },
     "execution_count": 5,
     "metadata": {},
     "output_type": "execute_result"
    }
   ],
   "source": [
    "# Count of matches played in each format\n",
    "format_bumrah = bumrah_data[\"Format\"].value_counts()\n",
    "format_shami = shami_data[\"Format\"].value_counts()\n",
    "\n",
    "format_bumrah, format_shami\n"
   ]
  },
  {
   "cell_type": "markdown",
   "id": "56c4ed25-eeb9-4f50-b170-7121122f81b4",
   "metadata": {},
   "source": [
    "### **5. Count Matches by Format (T20I vs ODI)**\n",
    "- Checks distribution of **ODI vs T20I matches**.\n",
    "- Helps understand their experience in each format.\n"
   ]
  },
  {
   "cell_type": "code",
   "execution_count": 7,
   "id": "6f18ab7b-a3f8-4749-b4fa-3c0e5dbf5048",
   "metadata": {},
   "outputs": [
    {
     "data": {
      "image/png": "[encoded data removed]",
      "text/plain": [
       "<Figure size 1000x500 with 1 Axes>"
      ]
     },
     "metadata": {},
     "output_type": "display_data"
    }
   ],
   "source": [
    "import matplotlib.pyplot as plt\n",
    "\n",
    "plt.figure(figsize=(10,5))\n",
    "plt.hist(bumrah_data[\"Economy\"], bins=20, alpha=0.5, label=\"Bumrah\")\n",
    "plt.hist(shami_data[\"Economy\"], bins=20, alpha=0.5, label=\"Shami\")\n",
    "plt.xlabel(\"Economy Rate\")\n",
    "plt.ylabel(\"Frequency\")\n",
    "plt.legend()\n",
    "plt.title(\"Distribution of Economy Rates\")\n",
    "plt.show()\n"
   ]
  },
  {
   "cell_type": "markdown",
   "id": "2758b35d-9898-4937-a348-be76cb4645d6",
   "metadata": {},
   "source": [
    "### **6. Distribution of Economy Rates**\n",
    "- Compares **how often they concede runs per over**.\n",
    "- A lower economy rate means better control over runs.\n"
   ]
  },
  {
   "cell_type": "code",
   "execution_count": 8,
   "id": "8ad4c40f-e6aa-40e9-86aa-3c49f0781d67",
   "metadata": {},
   "outputs": [
    {
     "data": {
      "image/png": "[encoded data removed]",
      "text/plain": [
       "<Figure size 1000x500 with 1 Axes>"
      ]
     },
     "metadata": {},
     "output_type": "display_data"
    }
   ],
   "source": [
    "plt.figure(figsize=(10,5))\n",
    "plt.hist(bumrah_data[\"Wickets\"], bins=10, alpha=0.5, label=\"Bumrah\")\n",
    "plt.hist(shami_data[\"Wickets\"], bins=10, alpha=0.5, label=\"Shami\")\n",
    "plt.xlabel(\"Wickets per Match\")\n",
    "plt.ylabel(\"Frequency\")\n",
    "plt.legend()\n",
    "plt.title(\"Wickets Distribution\")\n",
    "plt.show()\n"
   ]
  },
  {
   "cell_type": "markdown",
   "id": "588ea6b6-c9d8-4c40-ae77-85d7ccf5d5aa",
   "metadata": {},
   "source": [
    "### **7. Wickets Taken per Match**\n",
    "- Displays frequency of matches where they took **specific wickets**.\n",
    "- Shows who consistently takes more wickets.\n"
   ]
  },
  {
   "cell_type": "code",
   "execution_count": 9,
   "id": "c60525de-f3d8-4476-812a-1aad2997645b",
   "metadata": {},
   "outputs": [
    {
     "data": {
      "text/plain": [
       "(Ground\n",
       " Adelaide     8.520833\n",
       " Brisbane     7.403077\n",
       " Canberra     6.345000\n",
       " Melbourne    8.014286\n",
       " Sydney       7.672143\n",
       " Name: Economy, dtype: float64,\n",
       " Ground\n",
       " Adelaide     9.080000\n",
       " Brisbane     7.148889\n",
       " Canberra     8.891667\n",
       " Melbourne    7.451875\n",
       " Perth        7.063333\n",
       " Sydney       7.998182\n",
       " W.A.C.A      7.110000\n",
       " Name: Economy, dtype: float64)"
      ]
     },
     "execution_count": 9,
     "metadata": {},
     "output_type": "execute_result"
    }
   ],
   "source": [
    "# Average economy by ground\n",
    "ground_bumrah = bumrah_data.groupby(\"Ground\")[\"Economy\"].mean()\n",
    "ground_shami = shami_data.groupby(\"Ground\")[\"Economy\"].mean()\n",
    "\n",
    "ground_bumrah, ground_shami\n"
   ]
  },
  {
   "cell_type": "markdown",
   "id": "1308e25e-e1bb-489e-9ec5-33e9d565c98e",
   "metadata": {},
   "source": [
    "### **9. Performance Across Different Grounds**\n",
    "- Identifies which grounds favor each bowler.\n",
    "- Helps see if specific venues affect performance.\n"
   ]
  },
  {
   "cell_type": "code",
   "execution_count": 10,
   "id": "2113a3f0-eb33-4266-9384-d60a39891d37",
   "metadata": {},
   "outputs": [
    {
     "data": {
      "text/plain": [
       "(            Overs   Wickets   Economy\n",
       " Overs    1.000000 -0.045565 -0.077467\n",
       " Wickets -0.045565  1.000000  0.064984\n",
       " Economy -0.077467  0.064984  1.000000,\n",
       "             Overs   Wickets   Economy\n",
       " Overs    1.000000  0.336954 -0.159485\n",
       " Wickets  0.336954  1.000000 -0.044688\n",
       " Economy -0.159485 -0.044688  1.000000)"
      ]
     },
     "execution_count": 10,
     "metadata": {},
     "output_type": "execute_result"
    }
   ],
   "source": [
    "# Correlation matrix\n",
    "bumrah_corr = bumrah_data[[\"Overs\", \"Wickets\", \"Economy\"]].corr()\n",
    "shami_corr = shami_data[[\"Overs\", \"Wickets\", \"Economy\"]].corr()\n",
    "\n",
    "bumrah_corr, shami_corr\n"
   ]
  },
  {
   "cell_type": "markdown",
   "id": "eb1c8446-6be2-489e-9e5e-693eeb8c5fb0",
   "metadata": {},
   "source": [
    "### **10. Correlation Between Overs Bowled and Wickets Taken**\n",
    "- Checks if **bowling more overs leads to more wickets**.\n",
    "- Also looks at how **economy rate affects wickets**.\n"
   ]
  },
  {
   "cell_type": "code",
   "execution_count": 11,
   "id": "d7aac108-87cf-4ca2-aa78-c00379302a6b",
   "metadata": {},
   "outputs": [
    {
     "data": {
      "text/plain": [
       "(Opposition\n",
       " v Australia    69\n",
       " Name: count, dtype: int64,\n",
       " Opposition\n",
       " v Australia       17\n",
       " v Bangladesh      12\n",
       " v South Africa    11\n",
       " v Pakistan         8\n",
       " v Netherlands      8\n",
       " v England          7\n",
       " v Zimbabwe         4\n",
       " v West Indies      3\n",
       " Name: count, dtype: int64)"
      ]
     },
     "execution_count": 11,
     "metadata": {},
     "output_type": "execute_result"
    }
   ],
   "source": [
    "# Count of matches played against each team\n",
    "opponents_bumrah = bumrah_data[\"Opposition\"].value_counts()\n",
    "opponents_shami = shami_data[\"Opposition\"].value_counts()\n",
    "\n",
    "opponents_bumrah, opponents_shami\n"
   ]
  },
  {
   "cell_type": "markdown",
   "id": "43ad50f0-7395-4948-a04d-5b51cb0767b0",
   "metadata": {},
   "source": [
    "### **11. Most Common Opponents**\r\n",
    "- Determines which teams they have played against the most.\r\n",
    "- Useful for opposition-based strategy.\r\n"
   ]
  },
  {
   "cell_type": "code",
   "execution_count": 12,
   "id": "ad240bca-6da2-46b8-a4d0-57f29809e3ed",
   "metadata": {},
   "outputs": [
    {
     "data": {
      "text/plain": [
       "(Format\n",
       " ODI     inf\n",
       " T20I    inf\n",
       " Name: Strike Rate, dtype: float64,\n",
       " Format\n",
       " ODI     inf\n",
       " T20I    inf\n",
       " Name: Strike Rate, dtype: float64)"
      ]
     },
     "execution_count": 12,
     "metadata": {},
     "output_type": "execute_result"
    }
   ],
   "source": [
    "# Calculate strike rate (balls per wicket)\n",
    "bumrah_data[\"Strike Rate\"] = (bumrah_data[\"Overs\"] * 6) / bumrah_data[\"Wickets\"]\n",
    "shami_data[\"Strike Rate\"] = (shami_data[\"Overs\"] * 6) / shami_data[\"Wickets\"]\n",
    "\n",
    "# Average strike rate per format\n",
    "strike_bumrah = bumrah_data.groupby(\"Format\")[\"Strike Rate\"].mean()\n",
    "strike_shami = shami_data.groupby(\"Format\")[\"Strike Rate\"].mean()\n",
    "\n",
    "strike_bumrah, strike_shami\n"
   ]
  },
  {
   "cell_type": "markdown",
   "id": "d9447e9e-9743-40f0-9c96-7efe05d21800",
   "metadata": {},
   "source": [
    "### **12. Strike Rate Analysis**\n",
    "- Measures how often each bowler takes wickets.\n",
    "- **Lower strike rate is better**.\n"
   ]
  },
  {
   "cell_type": "code",
   "execution_count": 13,
   "id": "1d623294-4d89-4aee-adfe-796ff5d4df14",
   "metadata": {},
   "outputs": [
    {
     "data": {
      "text/plain": [
       "(Start Date\n",
       " 2015    10\n",
       " 2016    47\n",
       " 2017    21\n",
       " 2018    22\n",
       " 2019    22\n",
       " 2020    14\n",
       " 2021    20\n",
       " 2022    22\n",
       " Name: Wickets, dtype: int64,\n",
       " Start Date\n",
       " 2015    10\n",
       " 2016    10\n",
       " 2017    13\n",
       " 2018    22\n",
       " 2019     2\n",
       " 2020    35\n",
       " 2021    13\n",
       " 2022    17\n",
       " Name: Wickets, dtype: int64)"
      ]
     },
     "execution_count": 13,
     "metadata": {},
     "output_type": "execute_result"
    }
   ],
   "source": [
    "# Convert date to datetime format\n",
    "bumrah_data[\"Start Date\"] = pd.to_datetime(bumrah_data[\"Start Date\"])\n",
    "shami_data[\"Start Date\"] = pd.to_datetime(shami_data[\"Start Date\"])\n",
    "\n",
    "# Group by year\n",
    "yearly_wickets_bumrah = bumrah_data.groupby(bumrah_data[\"Start Date\"].dt.year)[\"Wickets\"].sum()\n",
    "yearly_wickets_shami = shami_data.groupby(shami_data[\"Start Date\"].dt.year)[\"Wickets\"].sum()\n",
    "\n",
    "yearly_wickets_bumrah, yearly_wickets_shami\n"
   ]
  },
  {
   "cell_type": "markdown",
   "id": "c6559cd5-b9ee-4fbf-a66e-00414b1090c6",
   "metadata": {},
   "source": [
    "### **13. Performance Trends Over Time**\r\n",
    "- Tracks **yearly wicket-taking trends**.\r\n",
    "- Helps see who has been more consistent.\r\n"
   ]
  },
  {
   "cell_type": "code",
   "execution_count": 14,
   "id": "29820f82-0a26-4f83-b125-be6695ed206a",
   "metadata": {},
   "outputs": [
    {
     "data": {
      "image/png": "[encoded data removed]",
      "text/plain": [
       "<Figure size 800x600 with 1 Axes>"
      ]
     },
     "metadata": {},
     "output_type": "display_data"
    }
   ],
   "source": [
    "import seaborn as sns\n",
    "\n",
    "plt.figure(figsize=(8,6))\n",
    "sns.boxplot(data=[bumrah_data[\"Wickets\"], shami_data[\"Wickets\"]])\n",
    "plt.xticks([0,1], [\"Bumrah\", \"Shami\"])\n",
    "plt.ylabel(\"Wickets per Match\")\n",
    "plt.title(\"Wickets Distribution\")\n",
    "plt.show()\n"
   ]
  },
  {
   "cell_type": "markdown",
   "id": "cc52fae7-1bc5-46a4-af1a-80859ea559f1",
   "metadata": {},
   "source": [
    "### **14. Boxplot for Wickets Per Match**\n",
    "- Identifies **outliers and consistency** in wickets per match.\n"
   ]
  },
  {
   "cell_type": "code",
   "execution_count": 15,
   "id": "e2466334-f042-476e-9e55-481a8379d0e0",
   "metadata": {},
   "outputs": [
    {
     "data": {
      "image/png": "[encoded data removed]",
      "text/plain": [
       "<Figure size 800x600 with 1 Axes>"
      ]
     },
     "metadata": {},
     "output_type": "display_data"
    }
   ],
   "source": [
    "plt.figure(figsize=(8,6))\n",
    "plt.scatter(bumrah_data[\"Runs\"], bumrah_data[\"Wickets\"], alpha=0.5, label=\"Bumrah\")\n",
    "plt.scatter(shami_data[\"Runs\"], shami_data[\"Wickets\"], alpha=0.5, label=\"Shami\")\n",
    "plt.xlabel(\"Runs Conceded\")\n",
    "plt.ylabel(\"Wickets\")\n",
    "plt.legend()\n",
    "plt.title(\"Runs vs Wickets\")\n",
    "plt.show()\n"
   ]
  },
  {
   "cell_type": "markdown",
   "id": "4bc14c25-1dce-42e1-9c74-6d43a9c44416",
   "metadata": {},
   "source": [
    "### **15. Relationship Between Runs Conceded and Wickets**\n",
    "- Shows if bowlers **take more wickets when they concede more runs**.\n"
   ]
  },
  {
   "cell_type": "code",
   "execution_count": null,
   "id": "50f6f43e-c8b7-41b4-a526-753bd1faab6d",
   "metadata": {},
   "outputs": [],
   "source": []
  }
 ],
 "metadata": {
  "kernelspec": {
   "display_name": "Python 3 (ipykernel)",
   "language": "python",
   "name": "python3"
  },
  "language_info": {
   "codemirror_mode": {
    "name": "ipython",
    "version": 3
   },
   "file_extension": ".py",
   "mimetype": "text/x-python",
   "name": "python",
   "nbconvert_exporter": "python",
   "pygments_lexer": "ipython3",
   "version": "3.11.7"
  }
 },
 "nbformat": 4,
 "nbformat_minor": 5
}
